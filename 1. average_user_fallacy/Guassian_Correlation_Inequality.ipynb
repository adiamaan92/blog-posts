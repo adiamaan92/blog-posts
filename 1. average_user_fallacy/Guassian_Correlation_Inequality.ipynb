{
 "cells": [
  {
   "cell_type": "markdown",
   "metadata": {
    "colab_type": "text",
    "id": "Lc4ADqn0m308"
   },
   "source": [
    "## Making sense of Average user fallacy and Guassian correlation inequality"
   ]
  },
  {
   "cell_type": "code",
   "execution_count": 92,
   "metadata": {
    "colab": {},
    "colab_type": "code",
    "id": "SIvtVwh3m31A"
   },
   "outputs": [],
   "source": [
    "import numpy as np\n",
    "import matplotlib.pyplot as plt\n",
    "from IPython.display import Image\n",
    "%matplotlib inline"
   ]
  },
  {
   "cell_type": "markdown",
   "metadata": {
    "colab_type": "text",
    "id": "s6DIPaX0nKmo"
   },
   "source": [
    "1) Generate correlated random variable with given mean and fixed standard deviation.  <br>\n",
    "2) Calculate covariance matrix using cholesky decomposition. <br>\n",
    "3) Correlated Data = mean + covariace * data <br>\n",
    "4) Find how many points lie within K STD from mean for height weight and combination and compare them. \n"
   ]
  },
  {
   "cell_type": "code",
   "execution_count": 221,
   "metadata": {},
   "outputs": [
    {
     "data": {
      "application/javascript": [
       "\n",
       "        setTimeout(function() {\n",
       "            var nbb_cell_id = 221;\n",
       "            var nbb_formatted_code = \"%load_ext nb_black\";\n",
       "            var nbb_cells = Jupyter.notebook.get_cells();\n",
       "            for (var i = 0; i < nbb_cells.length; ++i) {\n",
       "                if (nbb_cells[i].input_prompt_number == nbb_cell_id) {\n",
       "                    nbb_cells[i].set_text(nbb_formatted_code);\n",
       "                    break;\n",
       "                }\n",
       "            }\n",
       "        }, 500);\n",
       "        "
      ],
      "text/plain": [
       "<IPython.core.display.Javascript object>"
      ]
     },
     "metadata": {},
     "output_type": "display_data"
    }
   ],
   "source": [
    "%load_ext nb_black"
   ]
  },
  {
   "cell_type": "code",
   "execution_count": 223,
   "metadata": {
    "colab": {},
    "colab_type": "code",
    "id": "XF-l2eJIm31Q"
   },
   "outputs": [
    {
     "data": {
      "application/javascript": [
       "\n",
       "        setTimeout(function() {\n",
       "            var nbb_cell_id = 223;\n",
       "            var nbb_formatted_code = \"mean = np.array([175, 190])  # mean of height in cm and weight in kg\\nsamples = 10000\\ncorrelation = 0.3\\ncorr_matrix = np.array([[1.0, correlation], [correlation, 1.0]])\";\n",
       "            var nbb_cells = Jupyter.notebook.get_cells();\n",
       "            for (var i = 0; i < nbb_cells.length; ++i) {\n",
       "                if (nbb_cells[i].input_prompt_number == nbb_cell_id) {\n",
       "                    nbb_cells[i].set_text(nbb_formatted_code);\n",
       "                    break;\n",
       "                }\n",
       "            }\n",
       "        }, 500);\n",
       "        "
      ],
      "text/plain": [
       "<IPython.core.display.Javascript object>"
      ]
     },
     "metadata": {},
     "output_type": "display_data"
    }
   ],
   "source": [
    "# mean of height in cm and weight in lbs\n",
    "mean = np.array([175, 190]) \n",
    "samples = 10000\n",
    "correlation = 0.3\n",
    "corr_matrix = np.array([[1.0, correlation], [correlation, 1.0]])"
   ]
  },
  {
   "cell_type": "code",
   "execution_count": 224,
   "metadata": {
    "colab": {},
    "colab_type": "code",
    "id": "crA-Zu5Rm31S"
   },
   "outputs": [
    {
     "data": {
      "application/javascript": [
       "\n",
       "        setTimeout(function() {\n",
       "            var nbb_cell_id = 224;\n",
       "            var nbb_formatted_code = \"# Get covariance from correlation using cholesky decomposition.\\n# Covariance is square root of correlation\\nchol = np.linalg.cholesky(corr_matrix)\";\n",
       "            var nbb_cells = Jupyter.notebook.get_cells();\n",
       "            for (var i = 0; i < nbb_cells.length; ++i) {\n",
       "                if (nbb_cells[i].input_prompt_number == nbb_cell_id) {\n",
       "                    nbb_cells[i].set_text(nbb_formatted_code);\n",
       "                    break;\n",
       "                }\n",
       "            }\n",
       "        }, 500);\n",
       "        "
      ],
      "text/plain": [
       "<IPython.core.display.Javascript object>"
      ]
     },
     "metadata": {},
     "output_type": "display_data"
    }
   ],
   "source": [
    "# Get covariance from correlation using cholesky decomposition.\n",
    "# Covariance is square root of correlation\n",
    "chol = np.linalg.cholesky(corr_matrix)"
   ]
  },
  {
   "cell_type": "code",
   "execution_count": 225,
   "metadata": {
    "colab": {},
    "colab_type": "code",
    "id": "3dA_UbQLm31W"
   },
   "outputs": [
    {
     "data": {
      "application/javascript": [
       "\n",
       "        setTimeout(function() {\n",
       "            var nbb_cell_id = 225;\n",
       "            var nbb_formatted_code = \"assert (\\n    ~np.isclose(chol @ np.transpose(chol), corr_matrix)\\n).sum() == 0, \\\"Cholesky not working\\\"\";\n",
       "            var nbb_cells = Jupyter.notebook.get_cells();\n",
       "            for (var i = 0; i < nbb_cells.length; ++i) {\n",
       "                if (nbb_cells[i].input_prompt_number == nbb_cell_id) {\n",
       "                    nbb_cells[i].set_text(nbb_formatted_code);\n",
       "                    break;\n",
       "                }\n",
       "            }\n",
       "        }, 500);\n",
       "        "
      ],
      "text/plain": [
       "<IPython.core.display.Javascript object>"
      ]
     },
     "metadata": {},
     "output_type": "display_data"
    }
   ],
   "source": [
    "assert (\n",
    "    ~np.isclose(chol @ np.transpose(chol), corr_matrix)\n",
    ").sum() == 0, \"Cholesky not working\""
   ]
  },
  {
   "cell_type": "code",
   "execution_count": 227,
   "metadata": {
    "colab": {
     "base_uri": "https://localhost:8080/",
     "height": 119
    },
    "colab_type": "code",
    "id": "l9VW6d3Pm31b",
    "outputId": "e5728060-c1b8-4d03-cdbc-49cec0bbb021"
   },
   "outputs": [
    {
     "name": "stdout",
     "output_type": "stream",
     "text": [
      "Correlation of randomly generated data - \n",
      "[[1.         0.01117562]\n",
      " [0.01117562 1.        ]]\n",
      "Correlation of correlated data - \n",
      "[[1.         0.31229135]\n",
      " [0.31229135 1.        ]]\n"
     ]
    },
    {
     "data": {
      "application/javascript": [
       "\n",
       "        setTimeout(function() {\n",
       "            var nbb_cell_id = 227;\n",
       "            var nbb_formatted_code = \"# generate correlated random variables with mean 0 and std 1\\nuncorr_data = np.random.randn(2, samples)\\nprint(f\\\"Correlation of randomly generated data - \\\\n{np.corrcoef(uncorr_data)}\\\")\\n# will correlate the random generated data using covariance\\ncorr_data = np.reshape(mean, [2, 1]) + chol @ uncorr_data\\nprint(f\\\"Correlation of correlated data - \\\\n{np.corrcoef(corr_data)}\\\")\";\n",
       "            var nbb_cells = Jupyter.notebook.get_cells();\n",
       "            for (var i = 0; i < nbb_cells.length; ++i) {\n",
       "                if (nbb_cells[i].input_prompt_number == nbb_cell_id) {\n",
       "                    nbb_cells[i].set_text(nbb_formatted_code);\n",
       "                    break;\n",
       "                }\n",
       "            }\n",
       "        }, 500);\n",
       "        "
      ],
      "text/plain": [
       "<IPython.core.display.Javascript object>"
      ]
     },
     "metadata": {},
     "output_type": "display_data"
    }
   ],
   "source": [
    "# generate correlated random variables with mean 0 and std 1\n",
    "uncorr_data = np.random.randn(2, samples)\n",
    "print(f\"Correlation of randomly generated data - \\n{np.corrcoef(uncorr_data)}\")\n",
    "# will correlate the random generated data using covariance\n",
    "corr_data = np.reshape(mean, [2, 1]) + chol @ uncorr_data\n",
    "print(f\"Correlation of correlated data - \\n{np.corrcoef(corr_data)}\")"
   ]
  },
  {
   "cell_type": "code",
   "execution_count": 228,
   "metadata": {
    "colab": {
     "base_uri": "https://localhost:8080/",
     "height": 320
    },
    "colab_type": "code",
    "id": "ZkR7aEHqm31h",
    "outputId": "9db7c82f-e7f4-42ee-bea1-7866908b783d"
   },
   "outputs": [
    {
     "data": {
      "image/png": "[encoded data removed]",
      "text/plain": [
       "<Figure size 864x360 with 2 Axes>"
      ]
     },
     "metadata": {},
     "output_type": "display_data"
    },
    {
     "data": {
      "application/javascript": [
       "\n",
       "        setTimeout(function() {\n",
       "            var nbb_cell_id = 228;\n",
       "            var nbb_formatted_code = \"fig, (ax1, ax2) = plt.subplots(nrows=1, ncols=2)\\nax1.hist(corr_data[0])\\nax1.set_title(\\\"Height in cms\\\")\\nax2.hist(corr_data[1])\\nax2.set_title(\\\"Weight in lbs\\\")\\nfig.set_size_inches(12, 5)\";\n",
       "            var nbb_cells = Jupyter.notebook.get_cells();\n",
       "            for (var i = 0; i < nbb_cells.length; ++i) {\n",
       "                if (nbb_cells[i].input_prompt_number == nbb_cell_id) {\n",
       "                    nbb_cells[i].set_text(nbb_formatted_code);\n",
       "                    break;\n",
       "                }\n",
       "            }\n",
       "        }, 500);\n",
       "        "
      ],
      "text/plain": [
       "<IPython.core.display.Javascript object>"
      ]
     },
     "metadata": {},
     "output_type": "display_data"
    }
   ],
   "source": [
    "fig, (ax1, ax2) = plt.subplots(nrows=1, ncols=2)\n",
    "ax1.hist(corr_data[0])\n",
    "ax1.set_title(\"Height in cms\")\n",
    "ax2.hist(corr_data[1])\n",
    "ax2.set_title(\"Weight in lbs\")\n",
    "fig.set_size_inches(12, 5)"
   ]
  },
  {
   "cell_type": "code",
   "execution_count": 229,
   "metadata": {
    "colab": {
     "base_uri": "https://localhost:8080/",
     "height": 265
    },
    "colab_type": "code",
    "id": "RRsVL_hMm31o",
    "outputId": "96eff82f-e0bb-4336-f764-49998edd6ca1"
   },
   "outputs": [
    {
     "data": {
      "image/png": "[encoded data removed]",
      "text/plain": [
       "<Figure size 720x360 with 1 Axes>"
      ]
     },
     "metadata": {},
     "output_type": "display_data"
    },
    {
     "data": {
      "application/javascript": [
       "\n",
       "        setTimeout(function() {\n",
       "            var nbb_cell_id = 229;\n",
       "            var nbb_formatted_code = \"plt.figure(figsize=(10, 5))\\nplt.scatter(corr_data[0], corr_data[1])\\nplt.title(\\\"Height in cms vs Weight in lbs with correlation {}\\\")\";\n",
       "            var nbb_cells = Jupyter.notebook.get_cells();\n",
       "            for (var i = 0; i < nbb_cells.length; ++i) {\n",
       "                if (nbb_cells[i].input_prompt_number == nbb_cell_id) {\n",
       "                    nbb_cells[i].set_text(nbb_formatted_code);\n",
       "                    break;\n",
       "                }\n",
       "            }\n",
       "        }, 500);\n",
       "        "
      ],
      "text/plain": [
       "<IPython.core.display.Javascript object>"
      ]
     },
     "metadata": {},
     "output_type": "display_data"
    }
   ],
   "source": [
    "plt.figure(figsize=(10, 5))\n",
    "plt.scatter(corr_data[0], corr_data[1])\n",
    "plt.title(\"Height in cms vs Weight in lbs with correlation {}\")"
   ]
  },
  {
   "cell_type": "code",
   "execution_count": 230,
   "metadata": {
    "colab": {
     "base_uri": "https://localhost:8080/",
     "height": 34
    },
    "colab_type": "code",
    "id": "E-3bG0jBm31u",
    "outputId": "8b9c93ad-6647-4617-ffc4-d8b32a92b303"
   },
   "outputs": [
    {
     "data": {
      "text/plain": [
       "(174.99403231204286,\n",
       " 1.0016632926090632,\n",
       " 189.99273563520242,\n",
       " 0.9961050146740399)"
      ]
     },
     "execution_count": 230,
     "metadata": {},
     "output_type": "execute_result"
    },
    {
     "data": {
      "application/javascript": [
       "\n",
       "        setTimeout(function() {\n",
       "            var nbb_cell_id = 230;\n",
       "            var nbb_formatted_code = \"height_std, weight_std = np.std(corr_data[0]), np.std(corr_data[1])\\nheight_mean, weight_mean = np.mean(corr_data[0]), np.mean(corr_data[1])\\nheight_mean, height_std, weight_mean, weight_std\";\n",
       "            var nbb_cells = Jupyter.notebook.get_cells();\n",
       "            for (var i = 0; i < nbb_cells.length; ++i) {\n",
       "                if (nbb_cells[i].input_prompt_number == nbb_cell_id) {\n",
       "                    nbb_cells[i].set_text(nbb_formatted_code);\n",
       "                    break;\n",
       "                }\n",
       "            }\n",
       "        }, 500);\n",
       "        "
      ],
      "text/plain": [
       "<IPython.core.display.Javascript object>"
      ]
     },
     "metadata": {},
     "output_type": "display_data"
    }
   ],
   "source": [
    "height_std, weight_std = np.std(corr_data[0]), np.std(corr_data[1])\n",
    "height_mean, weight_mean = np.mean(corr_data[0]), np.mean(corr_data[1])\n",
    "height_mean, height_std, weight_mean, weight_std"
   ]
  },
  {
   "cell_type": "markdown",
   "metadata": {
    "colab_type": "text",
    "id": "TWbX0nP6m313"
   },
   "source": [
    "Weight and Height has different mean but same standard deviation. Loop through the data set and find points within 1 STD from mean."
   ]
  },
  {
   "cell_type": "code",
   "execution_count": 231,
   "metadata": {
    "colab": {
     "base_uri": "https://localhost:8080/",
     "height": 34
    },
    "colab_type": "code",
    "id": "XaAsYw6Km314",
    "outputId": "d7fb58e0-5df9-4917-ab34-cd350211e1de"
   },
   "outputs": [
    {
     "name": "stdout",
     "output_type": "stream",
     "text": [
      "0.6864 0.6914 0.4899\n"
     ]
    },
    {
     "data": {
      "application/javascript": [
       "\n",
       "        setTimeout(function() {\n",
       "            var nbb_cell_id = 231;\n",
       "            var nbb_formatted_code = \"k = 1\\nnormal_height = (corr_data[0] > mean[0] - k) & (corr_data[0] < mean[0] + k)\\nnormal_weight = (corr_data[1] > mean[1] - k) & (corr_data[1] < mean[1] + k)\\nnormal_height_weight = normal_height & normal_weight\\n\\nprob_normal_height = normal_height.sum() / samples\\nprob_normal_weight = normal_weight.sum() / samples\\nprob_normal_height_weight = normal_height_weight.sum() / samples\\n\\nprint(prob_normal_height, prob_normal_weight, prob_normal_height_weight)\";\n",
       "            var nbb_cells = Jupyter.notebook.get_cells();\n",
       "            for (var i = 0; i < nbb_cells.length; ++i) {\n",
       "                if (nbb_cells[i].input_prompt_number == nbb_cell_id) {\n",
       "                    nbb_cells[i].set_text(nbb_formatted_code);\n",
       "                    break;\n",
       "                }\n",
       "            }\n",
       "        }, 500);\n",
       "        "
      ],
      "text/plain": [
       "<IPython.core.display.Javascript object>"
      ]
     },
     "metadata": {},
     "output_type": "display_data"
    }
   ],
   "source": [
    "k = 1\n",
    "normal_height = (corr_data[0] > mean[0] - k) & (corr_data[0] < mean[0] + k)\n",
    "normal_weight = (corr_data[1] > mean[1] - k) & (corr_data[1] < mean[1] + k)\n",
    "normal_height_weight = normal_height & normal_weight\n",
    "\n",
    "prob_normal_height = normal_height.sum() / samples\n",
    "prob_normal_weight = normal_weight.sum() / samples\n",
    "prob_normal_height_weight = normal_height_weight.sum() / samples\n",
    "\n",
    "print(prob_normal_height, prob_normal_weight, prob_normal_height_weight)"
   ]
  },
  {
   "cell_type": "code",
   "execution_count": 232,
   "metadata": {
    "colab": {
     "base_uri": "https://localhost:8080/",
     "height": 34
    },
    "colab_type": "code",
    "id": "zUehOxLLm31-",
    "outputId": "eed89c8a-0d72-47dd-bec6-9a6dc0dcf446"
   },
   "outputs": [
    {
     "data": {
      "text/plain": [
       "'Guassin correlation inequality is true'"
      ]
     },
     "execution_count": 232,
     "metadata": {},
     "output_type": "execute_result"
    },
    {
     "data": {
      "application/javascript": [
       "\n",
       "        setTimeout(function() {\n",
       "            var nbb_cell_id = 232;\n",
       "            var nbb_formatted_code = \"\\\"Guassin correlation inequality is true\\\" if prob_normal_height_weight > (\\n    prob_normal_height * prob_normal_weight\\n) else \\\"Gaussian correlation inequality is false\\\"\";\n",
       "            var nbb_cells = Jupyter.notebook.get_cells();\n",
       "            for (var i = 0; i < nbb_cells.length; ++i) {\n",
       "                if (nbb_cells[i].input_prompt_number == nbb_cell_id) {\n",
       "                    nbb_cells[i].set_text(nbb_formatted_code);\n",
       "                    break;\n",
       "                }\n",
       "            }\n",
       "        }, 500);\n",
       "        "
      ],
      "text/plain": [
       "<IPython.core.display.Javascript object>"
      ]
     },
     "metadata": {},
     "output_type": "display_data"
    }
   ],
   "source": [
    "\"Guassin correlation inequality is true\" if prob_normal_height_weight > (\n",
    "    prob_normal_height * prob_normal_weight\n",
    ") else \"Gaussian correlation inequality is false\""
   ]
  },
  {
   "cell_type": "markdown",
   "metadata": {},
   "source": [
    "Guassian Correlation Inequality for different Correlation Factors"
   ]
  },
  {
   "cell_type": "code",
   "execution_count": 233,
   "metadata": {
    "colab": {},
    "colab_type": "code",
    "id": "Qg73Y4_dm32O"
   },
   "outputs": [
    {
     "data": {
      "application/javascript": [
       "\n",
       "        setTimeout(function() {\n",
       "            var nbb_cell_id = 233;\n",
       "            var nbb_formatted_code = \"samples = 100000\\nrhs, lhs = [], []\\nfor correlation in np.arange(0, 1, 0.1):\\n    corr_matrix = np.array([[1.0, correlation], [correlation, 1.0]])\\n    chol = np.linalg.cholesky(corr_matrix)\\n\\n    uncorr_data = np.random.randn(2, samples)\\n    corr_data = np.reshape(mean, [2, 1]) + chol @ uncorr_data\\n\\n    normal_height = (corr_data[0] > mean[0] - k) & (corr_data[0] < mean[0] + k)\\n    normal_weight = (corr_data[1] > mean[1] - k) & (corr_data[1] < mean[1] + k)\\n    normal_height_weight = normal_height & normal_weight\\n\\n    prob_normal_height = normal_height.sum() / samples\\n    prob_normal_weight = normal_weight.sum() / samples\\n    prob_normal_height_weight = normal_height_weight.sum() / samples\\n\\n    assert prob_normal_height_weight > (\\n        prob_normal_height * prob_normal_weight\\n    ), \\\"Guassian Correlation Inequality Fails\\\"\\n\\n    lhs.append(prob_normal_height_weight)\\n    rhs.append(prob_normal_height * prob_normal_weight)\";\n",
       "            var nbb_cells = Jupyter.notebook.get_cells();\n",
       "            for (var i = 0; i < nbb_cells.length; ++i) {\n",
       "                if (nbb_cells[i].input_prompt_number == nbb_cell_id) {\n",
       "                    nbb_cells[i].set_text(nbb_formatted_code);\n",
       "                    break;\n",
       "                }\n",
       "            }\n",
       "        }, 500);\n",
       "        "
      ],
      "text/plain": [
       "<IPython.core.display.Javascript object>"
      ]
     },
     "metadata": {},
     "output_type": "display_data"
    }
   ],
   "source": [
    "samples = 100000\n",
    "rhs, lhs = [], []\n",
    "for correlation in np.arange(0, 1, 0.1):\n",
    "    corr_matrix = np.array([[1.0, correlation], [correlation, 1.0]])\n",
    "    chol = np.linalg.cholesky(corr_matrix)\n",
    "\n",
    "    uncorr_data = np.random.randn(2, samples)\n",
    "    corr_data = np.reshape(mean, [2, 1]) + chol @ uncorr_data\n",
    "\n",
    "    normal_height = (corr_data[0] > mean[0] - k) & (corr_data[0] < mean[0] + k)\n",
    "    normal_weight = (corr_data[1] > mean[1] - k) & (corr_data[1] < mean[1] + k)\n",
    "    normal_height_weight = normal_height & normal_weight\n",
    "\n",
    "    prob_normal_height = normal_height.sum() / samples\n",
    "    prob_normal_weight = normal_weight.sum() / samples\n",
    "    prob_normal_height_weight = normal_height_weight.sum() / samples\n",
    "\n",
    "    assert prob_normal_height_weight > (\n",
    "        prob_normal_height * prob_normal_weight\n",
    "    ), \"Guassian Correlation Inequality Fails\"\n",
    "\n",
    "    lhs.append(prob_normal_height_weight)\n",
    "    rhs.append(prob_normal_height * prob_normal_weight)"
   ]
  },
  {
   "cell_type": "code",
   "execution_count": 234,
   "metadata": {
    "colab": {},
    "colab_type": "code",
    "id": "crBBQgizm32b"
   },
   "outputs": [
    {
     "data": {
      "image/png": "[encoded data removed]",
      "text/plain": [
       "<Figure size 720x360 with 1 Axes>"
      ]
     },
     "metadata": {},
     "output_type": "display_data"
    },
    {
     "data": {
      "application/javascript": [
       "\n",
       "        setTimeout(function() {\n",
       "            var nbb_cell_id = 234;\n",
       "            var nbb_formatted_code = \"plt.figure(figsize=(10, 5))\\nplt.plot(np.arange(0, 1, 0.1), lhs, label=r\\\"$P(S1 \\\\bigcap S2)$\\\")\\nplt.plot(np.arange(0, 1, 0.1), rhs, label=\\\"P(S1) * P(S2)\\\")\\n\\nplt.xlabel(\\\"Correlation Factor\\\")\\nplt.ylabel(\\\"Probability\\\")\\n\\nplt.title(\\\"Guassian Correlation Inequality\\\")\\nplt.legend(loc=\\\"upper left\\\")\";\n",
       "            var nbb_cells = Jupyter.notebook.get_cells();\n",
       "            for (var i = 0; i < nbb_cells.length; ++i) {\n",
       "                if (nbb_cells[i].input_prompt_number == nbb_cell_id) {\n",
       "                    nbb_cells[i].set_text(nbb_formatted_code);\n",
       "                    break;\n",
       "                }\n",
       "            }\n",
       "        }, 500);\n",
       "        "
      ],
      "text/plain": [
       "<IPython.core.display.Javascript object>"
      ]
     },
     "metadata": {},
     "output_type": "display_data"
    }
   ],
   "source": [
    "plt.figure(figsize=(10, 5))\n",
    "plt.plot(np.arange(0, 1, 0.1), lhs, label=r\"$P(S1 \\bigcap S2)$\")\n",
    "plt.plot(np.arange(0, 1, 0.1), rhs, label=\"P(S1) * P(S2)\")\n",
    "\n",
    "plt.xlabel(\"Correlation Factor\")\n",
    "plt.ylabel(\"Probability\")\n",
    "\n",
    "plt.title(\"Guassian Correlation Inequality\")\n",
    "plt.legend(loc=\"upper left\")"
   ]
  },
  {
   "cell_type": "markdown",
   "metadata": {
    "colab": {},
    "colab_type": "code",
    "id": "8xQMF5Eam32h"
   },
   "source": [
    "Extending Average User Fallacy to n dimensions"
   ]
  },
  {
   "cell_type": "code",
   "execution_count": 250,
   "metadata": {},
   "outputs": [
    {
     "data": {
      "text/plain": [
       "array([0.87481697, 0.96458805, 0.39975153, 0.60033484, 0.66967534])"
      ]
     },
     "execution_count": 250,
     "metadata": {},
     "output_type": "execute_result"
    },
    {
     "data": {
      "application/javascript": [
       "\n",
       "        setTimeout(function() {\n",
       "            var nbb_cell_id = 250;\n",
       "            var nbb_formatted_code = \"ndim = 4\\nnp.random.random(((ndim ** 2 - ndim) // 2) - 1)\";\n",
       "            var nbb_cells = Jupyter.notebook.get_cells();\n",
       "            for (var i = 0; i < nbb_cells.length; ++i) {\n",
       "                if (nbb_cells[i].input_prompt_number == nbb_cell_id) {\n",
       "                    nbb_cells[i].set_text(nbb_formatted_code);\n",
       "                    break;\n",
       "                }\n",
       "            }\n",
       "        }, 500);\n",
       "        "
      ],
      "text/plain": [
       "<IPython.core.display.Javascript object>"
      ]
     },
     "metadata": {},
     "output_type": "display_data"
    }
   ],
   "source": [
    "ndim = 4\n",
    "np.random.random(((ndim ** 2 - ndim) // 2) - 1)"
   ]
  },
  {
   "cell_type": "code",
   "execution_count": 255,
   "metadata": {
    "colab": {},
    "colab_type": "code",
    "id": "-QpORONdm32k"
   },
   "outputs": [
    {
     "data": {
      "application/javascript": [
       "\n",
       "        setTimeout(function() {\n",
       "            var nbb_cell_id = 255;\n",
       "            var nbb_formatted_code = \"rhs, lhs = [0.66], [0.66]\\nk = 1\\nfor ndim in range(2, 10):\\n    # Sometimes cholesky decomposition is unsolvable.\\n    # In that case restart the random process\\n    while True:\\n        try:\\n            if ndim > 3:\\n                corr_values = np.random.random(((ndim ** 2 - ndim) // 2) - 1)\\n            else:\\n                corr_values = (\\n                    np.random.random(3) if ndim == 3 else np.random.random(1)\\n                )\\n            corr_matrix = np.identity(ndim)\\n\\n            for row in range(0, ndim):\\n                for col in range(0, ndim):\\n                    if row != col:\\n                        corr_matrix[row][col] = corr_values[row + col - 1]\\n\\n            chol = np.linalg.cholesky(corr_matrix)\\n            break\\n        except np.linalg.LinAlgError as err:\\n            continue\\n\\n    mean = 0\\n    std = 2.5\\n\\n    uncorr_data = data = np.reshape(\\n        np.random.normal(mean, std, size=ndim * samples), (ndim, samples)\\n    )\\n    corr_data = chol @ uncorr_data\\n\\n    bool_array = np.zeros(shape=(ndim, samples))\\n    for i in range(ndim):\\n        # check if every dimension is within 1 standard deviation\\n        bool_array[i] = (corr_data[i] > (mean - k)) & (\\n            corr_data[i] < (mean + k)\\n        )\\n\\n    all_normal = np.all(bool_array, axis=0)\\n\\n    lhs.append(np.sum(all_normal) / samples)\\n    rhs.append(np.prod(np.sum(bool_array, axis=1) / samples))\";\n",
       "            var nbb_cells = Jupyter.notebook.get_cells();\n",
       "            for (var i = 0; i < nbb_cells.length; ++i) {\n",
       "                if (nbb_cells[i].input_prompt_number == nbb_cell_id) {\n",
       "                    nbb_cells[i].set_text(nbb_formatted_code);\n",
       "                    break;\n",
       "                }\n",
       "            }\n",
       "        }, 500);\n",
       "        "
      ],
      "text/plain": [
       "<IPython.core.display.Javascript object>"
      ]
     },
     "metadata": {},
     "output_type": "display_data"
    }
   ],
   "source": [
    "rhs, lhs = [0.66], [0.66]\n",
    "k = 1\n",
    "for ndim in range(2, 10):\n",
    "    # Sometimes cholesky decomposition is unsolvable.\n",
    "    # In that case restart the random process\n",
    "    while True:\n",
    "        try:\n",
    "            if ndim > 3:\n",
    "                corr_values = np.random.random(((ndim ** 2 - ndim) // 2) - 1)\n",
    "            else:\n",
    "                corr_values = (\n",
    "                    np.random.random(3) if ndim == 3 else np.random.random(1)\n",
    "                )\n",
    "            corr_matrix = np.identity(ndim)\n",
    "\n",
    "            for row in range(0, ndim):\n",
    "                for col in range(0, ndim):\n",
    "                    if row != col:\n",
    "                        corr_matrix[row][col] = corr_values[row + col - 1]\n",
    "\n",
    "            chol = np.linalg.cholesky(corr_matrix)\n",
    "            break\n",
    "        except np.linalg.LinAlgError as err:\n",
    "            continue\n",
    "\n",
    "    mean = 0\n",
    "    std = 2.5\n",
    "\n",
    "    uncorr_data = data = np.reshape(\n",
    "        np.random.normal(mean, std, size=ndim * samples), (ndim, samples)\n",
    "    )\n",
    "    corr_data = chol @ uncorr_data\n",
    "\n",
    "    bool_array = np.zeros(shape=(ndim, samples))\n",
    "    for i in range(ndim):\n",
    "        # check if every dimension is within 1 standard deviation\n",
    "        bool_array[i] = (corr_data[i] > (mean - k)) & (\n",
    "            corr_data[i] < (mean + k)\n",
    "        )\n",
    "\n",
    "    all_normal = np.all(bool_array, axis=0)\n",
    "\n",
    "    lhs.append(np.sum(all_normal) / samples)\n",
    "    rhs.append(np.prod(np.sum(bool_array, axis=1) / samples))"
   ]
  },
  {
   "cell_type": "code",
   "execution_count": 256,
   "metadata": {},
   "outputs": [
    {
     "data": {
      "application/javascript": [
       "\n",
       "        setTimeout(function() {\n",
       "            var nbb_cell_id = 256;\n",
       "            var nbb_formatted_code = \"chol = np.linalg.cholesky(corr_matrix)\\n\\nuncorr_data = data = np.reshape(\\n    np.random.normal(mean, std, size=ndim * samples), (ndim, samples)\\n)\\ncorr_data = chol @ uncorr_data\\n\\nfor i in range(ndim):\\n    # check if every dimension is within k standard deviation\\n    bool_array[i] = (corr_data[i] > (mean - k)) & (corr_data[i] < (mean + k))\\n\\nall_normal = np.all(bool_array, axis=0)\\n\\nlhs.append(np.sum(all_normal) / samples)\\nrhs.append(np.prod(np.sum(bool_array, axis=1) / samples))\";\n",
       "            var nbb_cells = Jupyter.notebook.get_cells();\n",
       "            for (var i = 0; i < nbb_cells.length; ++i) {\n",
       "                if (nbb_cells[i].input_prompt_number == nbb_cell_id) {\n",
       "                    nbb_cells[i].set_text(nbb_formatted_code);\n",
       "                    break;\n",
       "                }\n",
       "            }\n",
       "        }, 500);\n",
       "        "
      ],
      "text/plain": [
       "<IPython.core.display.Javascript object>"
      ]
     },
     "metadata": {},
     "output_type": "display_data"
    }
   ],
   "source": [
    "chol = np.linalg.cholesky(corr_matrix)\n",
    "\n",
    "uncorr_data = data = np.reshape(\n",
    "    np.random.normal(mean, std, size=ndim * samples), (ndim, samples)\n",
    ")\n",
    "corr_data = chol @ uncorr_data\n",
    "\n",
    "for i in range(ndim):\n",
    "    # check if every dimension is within k standard deviation\n",
    "    bool_array[i] = (corr_data[i] > (mean - k)) & (corr_data[i] < (mean + k))\n",
    "\n",
    "all_normal = np.all(bool_array, axis=0)\n",
    "\n",
    "lhs.append(np.sum(all_normal) / samples)\n",
    "rhs.append(np.prod(np.sum(bool_array, axis=1) / samples))"
   ]
  },
  {
   "cell_type": "code",
   "execution_count": 259,
   "metadata": {
    "colab": {},
    "colab_type": "code",
    "id": "jXPbJ5WWm32n"
   },
   "outputs": [
    {
     "data": {
      "text/plain": [
       "<matplotlib.legend.Legend at 0x23bec97ae10>"
      ]
     },
     "execution_count": 259,
     "metadata": {},
     "output_type": "execute_result"
    },
    {
     "data": {
      "image/png": "[encoded data removed]",
      "text/plain": [
       "<Figure size 720x360 with 1 Axes>"
      ]
     },
     "metadata": {},
     "output_type": "display_data"
    },
    {
     "data": {
      "application/javascript": [
       "\n",
       "        setTimeout(function() {\n",
       "            var nbb_cell_id = 259;\n",
       "            var nbb_formatted_code = \"plt.figure(figsize=(10, 5))\\nplt.plot(range(1, 11), lhs, label=r\\\"$P(S1 \\\\bigcap S2)$\\\")\\nplt.plot(range(1, 11), rhs, label=\\\"P(S1) * P(S2)\\\")\\n\\nplt.xlabel(\\\"Dimensions\\\")\\nplt.ylabel(\\\"Probability of occuring close to Average\\\")\\n\\nplt.title(\\\"Curse of Dimensionality on Average User Fallacy\\\")\\nplt.legend(loc=\\\"upper left\\\")\";\n",
       "            var nbb_cells = Jupyter.notebook.get_cells();\n",
       "            for (var i = 0; i < nbb_cells.length; ++i) {\n",
       "                if (nbb_cells[i].input_prompt_number == nbb_cell_id) {\n",
       "                    nbb_cells[i].set_text(nbb_formatted_code);\n",
       "                    break;\n",
       "                }\n",
       "            }\n",
       "        }, 500);\n",
       "        "
      ],
      "text/plain": [
       "<IPython.core.display.Javascript object>"
      ]
     },
     "metadata": {},
     "output_type": "display_data"
    }
   ],
   "source": [
    "plt.figure(figsize=(10, 5))\n",
    "plt.plot(range(1, 11), lhs, label=r\"$P(S1 \\bigcap S2)$\")\n",
    "plt.plot(range(1, 11), rhs, label=\"P(S1) * P(S2)\")\n",
    "\n",
    "plt.xlabel(\"Dimensions\")\n",
    "plt.ylabel(\"Probability of occuring close to Average\")\n",
    "\n",
    "plt.title(\"Curse of Dimensionality on Average User Fallacy\")\n",
    "plt.legend(loc=\"upper left\")"
   ]
  },
  {
   "cell_type": "code",
   "execution_count": 254,
   "metadata": {
    "colab": {},
    "colab_type": "code",
    "id": "Z_Hg6Y6Wm32q"
   },
   "outputs": [
    {
     "data": {
      "text/plain": [
       "0.39690000000000003"
      ]
     },
     "execution_count": 254,
     "metadata": {},
     "output_type": "execute_result"
    },
    {
     "data": {
      "application/javascript": [
       "\n",
       "        setTimeout(function() {\n",
       "            var nbb_cell_id = 254;\n",
       "            var nbb_formatted_code = \"0.63 * 0.63\";\n",
       "            var nbb_cells = Jupyter.notebook.get_cells();\n",
       "            for (var i = 0; i < nbb_cells.length; ++i) {\n",
       "                if (nbb_cells[i].input_prompt_number == nbb_cell_id) {\n",
       "                    nbb_cells[i].set_text(nbb_formatted_code);\n",
       "                    break;\n",
       "                }\n",
       "            }\n",
       "        }, 500);\n",
       "        "
      ],
      "text/plain": [
       "<IPython.core.display.Javascript object>"
      ]
     },
     "metadata": {},
     "output_type": "display_data"
    }
   ],
   "source": [
    "0.63 * 0.63"
   ]
  },
  {
   "cell_type": "code",
   "execution_count": 0,
   "metadata": {
    "colab": {},
    "colab_type": "code",
    "id": "FYUM2vdqm32s"
   },
   "outputs": [],
   "source": []
  },
  {
   "cell_type": "code",
   "execution_count": 0,
   "metadata": {
    "colab": {},
    "colab_type": "code",
    "id": "JIse5BVgm32u"
   },
   "outputs": [],
   "source": []
  },
  {
   "cell_type": "code",
   "execution_count": 0,
   "metadata": {
    "colab": {},
    "colab_type": "code",
    "id": "40nHFcxxm32w"
   },
   "outputs": [],
   "source": []
  },
  {
   "cell_type": "code",
   "execution_count": 0,
   "metadata": {
    "colab": {},
    "colab_type": "code",
    "id": "Mov_vdEJm32y"
   },
   "outputs": [],
   "source": []
  },
  {
   "cell_type": "code",
   "execution_count": 0,
   "metadata": {
    "colab": {},
    "colab_type": "code",
    "id": "6E3SNdTSm321"
   },
   "outputs": [],
   "source": []
  },
  {
   "cell_type": "code",
   "execution_count": 0,
   "metadata": {
    "colab": {},
    "colab_type": "code",
    "id": "igozlpq9m323"
   },
   "outputs": [],
   "source": []
  },
  {
   "cell_type": "code",
   "execution_count": 0,
   "metadata": {
    "colab": {},
    "colab_type": "code",
    "id": "JJASRjuim326"
   },
   "outputs": [],
   "source": []
  },
  {
   "cell_type": "code",
   "execution_count": 0,
   "metadata": {
    "colab": {},
    "colab_type": "code",
    "id": "43PmCqr_m329"
   },
   "outputs": [],
   "source": []
  },
  {
   "cell_type": "code",
   "execution_count": 0,
   "metadata": {
    "colab": {},
    "colab_type": "code",
    "id": "A62O4C_Mm33A"
   },
   "outputs": [],
   "source": []
  }
 ],
 "metadata": {
  "colab": {
   "collapsed_sections": [],
   "name": "Guassian Correlation Inequality.ipynb",
   "provenance": [],
   "version": "0.3.2"
  },
  "kernelspec": {
   "display_name": "Python 3",
   "language": "python",
   "name": "python3"
  },
  "language_info": {
   "codemirror_mode": {
    "name": "ipython",
    "version": 3
   },
   "file_extension": ".py",
   "mimetype": "text/x-python",
   "name": "python",
   "nbconvert_exporter": "python",
   "pygments_lexer": "ipython3",
   "version": "3.6.5"
  },
  "varInspector": {
   "cols": {
    "lenName": 16,
    "lenType": 16,
    "lenVar": 40
   },
   "kernels_config": {
    "python": {
     "delete_cmd_postfix": "",
     "delete_cmd_prefix": "del ",
     "library": "var_list.py",
     "varRefreshCmd": "print(var_dic_list())"
    },
    "r": {
     "delete_cmd_postfix": ") ",
     "delete_cmd_prefix": "rm(",
     "library": "var_list.r",
     "varRefreshCmd": "cat(var_dic_list()) "
    }
   },
   "types_to_exclude": [
    "module",
    "function",
    "builtin_function_or_method",
    "instance",
    "_Feature"
   ],
   "window_display": false
  }
 },
 "nbformat": 4,
 "nbformat_minor": 1
}
